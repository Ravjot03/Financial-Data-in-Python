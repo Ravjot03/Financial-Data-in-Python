{
  "nbformat": 4,
  "nbformat_minor": 0,
  "metadata": {
    "colab": {
      "name": "Importing&Managing_Financial_Data_Python_Ch-1_DataCamp.ipynb",
      "provenance": [],
      "collapsed_sections": []
    },
    "kernelspec": {
      "name": "python3",
      "display_name": "Python 3"
    }
  },
  "cells": [
    {
      "cell_type": "markdown",
      "metadata": {
        "id": "aD7H74lVVA0k"
      },
      "source": [
        "# Importing Stock Listing Data from Excel"
      ]
    },
    {
      "cell_type": "markdown",
      "metadata": {
        "id": "Ew8uUnEHVAB8"
      },
      "source": [
        "## Work By - **RAVJOT SINGH**\r\n",
        "\r\n",
        "E-Mail - ravjot313@gmail.com\r\n",
        "\r\n",
        "Website - https://ravjot03.github.io/\r\n",
        "\r\n",
        "LinkedIn - https://www.linkedin.com/in/ravjot03/\r\n",
        "\r\n",
        "GitHub - https://github.com/Ravjot03\r\n",
        "\r\n",
        "Medium - https://medium.com/@ravjot03"
      ]
    },
    {
      "cell_type": "markdown",
      "metadata": {
        "id": "CvqHExJBVSJ8"
      },
      "source": [
        "## Importing pandas library"
      ]
    },
    {
      "cell_type": "code",
      "metadata": {
        "id": "KcozzIykZWks"
      },
      "source": [
        "import pandas as pd"
      ],
      "execution_count": 1,
      "outputs": []
    },
    {
      "cell_type": "markdown",
      "metadata": {
        "id": "aZUOsnoIhGdO"
      },
      "source": [
        "##Reading, Inspecting and Cleansing Data from CSV"
      ]
    },
    {
      "cell_type": "markdown",
      "metadata": {
        "id": "BiG5X-kMbzcQ"
      },
      "source": [
        "###Import and Inspect Data"
      ]
    },
    {
      "cell_type": "code",
      "metadata": {
        "colab": {
          "base_uri": "https://localhost:8080/"
        },
        "id": "IDkqPqQLbghA",
        "outputId": "bae76d2e-0619-4857-a44b-d89a116188cc"
      },
      "source": [
        "amex = pd.read_csv('amex-listings.csv')\r\n",
        "amex.info()"
      ],
      "execution_count": 2,
      "outputs": [
        {
          "output_type": "stream",
          "text": [
            "<class 'pandas.core.frame.DataFrame'>\n",
            "RangeIndex: 360 entries, 0 to 359\n",
            "Data columns (total 8 columns):\n",
            " #   Column                 Non-Null Count  Dtype  \n",
            "---  ------                 --------------  -----  \n",
            " 0   Stock Symbol           360 non-null    object \n",
            " 1   Company Name           360 non-null    object \n",
            " 2   Last Sale              346 non-null    float64\n",
            " 3   Market Capitalization  360 non-null    float64\n",
            " 4   IPO Year               105 non-null    float64\n",
            " 5   Sector                 238 non-null    object \n",
            " 6   Industry               238 non-null    object \n",
            " 7   Last Update            360 non-null    object \n",
            "dtypes: float64(3), object(5)\n",
            "memory usage: 22.6+ KB\n"
          ],
          "name": "stdout"
        }
      ]
    },
    {
      "cell_type": "code",
      "metadata": {
        "colab": {
          "base_uri": "https://localhost:8080/",
          "height": 210
        },
        "id": "0qBMQUXOcjn_",
        "outputId": "b000efde-08ef-4f9d-f54e-9a35ba8bff0e"
      },
      "source": [
        "amex.head(3)"
      ],
      "execution_count": 3,
      "outputs": [
        {
          "output_type": "execute_result",
          "data": {
            "text/html": [
              "<div>\n",
              "<style scoped>\n",
              "    .dataframe tbody tr th:only-of-type {\n",
              "        vertical-align: middle;\n",
              "    }\n",
              "\n",
              "    .dataframe tbody tr th {\n",
              "        vertical-align: top;\n",
              "    }\n",
              "\n",
              "    .dataframe thead th {\n",
              "        text-align: right;\n",
              "    }\n",
              "</style>\n",
              "<table border=\"1\" class=\"dataframe\">\n",
              "  <thead>\n",
              "    <tr style=\"text-align: right;\">\n",
              "      <th></th>\n",
              "      <th>Stock Symbol</th>\n",
              "      <th>Company Name</th>\n",
              "      <th>Last Sale</th>\n",
              "      <th>Market Capitalization</th>\n",
              "      <th>IPO Year</th>\n",
              "      <th>Sector</th>\n",
              "      <th>Industry</th>\n",
              "      <th>Last Update</th>\n",
              "    </tr>\n",
              "  </thead>\n",
              "  <tbody>\n",
              "    <tr>\n",
              "      <th>0</th>\n",
              "      <td>XXII</td>\n",
              "      <td>22nd Century Group, Inc</td>\n",
              "      <td>1.33</td>\n",
              "      <td>1.206285e+08</td>\n",
              "      <td>NaN</td>\n",
              "      <td>Consumer Non-Durables</td>\n",
              "      <td>Farming/Seeds/Milling</td>\n",
              "      <td>4/26/17</td>\n",
              "    </tr>\n",
              "    <tr>\n",
              "      <th>1</th>\n",
              "      <td>FAX</td>\n",
              "      <td>Aberdeen Asia-Pacific Income Fund Inc</td>\n",
              "      <td>5.00</td>\n",
              "      <td>1.266333e+09</td>\n",
              "      <td>1986.0</td>\n",
              "      <td>NaN</td>\n",
              "      <td>NaN</td>\n",
              "      <td>4/25/17</td>\n",
              "    </tr>\n",
              "    <tr>\n",
              "      <th>2</th>\n",
              "      <td>IAF</td>\n",
              "      <td>Aberdeen Australia Equity Fund Inc</td>\n",
              "      <td>6.15</td>\n",
              "      <td>1.398653e+08</td>\n",
              "      <td>NaN</td>\n",
              "      <td>NaN</td>\n",
              "      <td>NaN</td>\n",
              "      <td>4/23/17</td>\n",
              "    </tr>\n",
              "  </tbody>\n",
              "</table>\n",
              "</div>"
            ],
            "text/plain": [
              "  Stock Symbol  ... Last Update\n",
              "0         XXII  ...     4/26/17\n",
              "1          FAX  ...     4/25/17\n",
              "2          IAF  ...     4/23/17\n",
              "\n",
              "[3 rows x 8 columns]"
            ]
          },
          "metadata": {
            "tags": []
          },
          "execution_count": 3
        }
      ]
    },
    {
      "cell_type": "markdown",
      "metadata": {
        "id": "WDLg7i8Ab27X"
      },
      "source": [
        "###Dealing with Missing values\r\n",
        "\r\n",
        "Replaces `n/a` with `np.nan`\r\n",
        "\r\n",
        "`na_values`: Converts a given string to `np.nan`, defaults to `None`."
      ]
    },
    {
      "cell_type": "code",
      "metadata": {
        "colab": {
          "base_uri": "https://localhost:8080/"
        },
        "id": "OXMiuxiJb2oP",
        "outputId": "8827ce5d-aa3d-402b-a0ee-8f579651a9ef"
      },
      "source": [
        "amex = pd.read_csv('amex-listings.csv', na_values='n/a')\r\n",
        "amex.info()"
      ],
      "execution_count": 4,
      "outputs": [
        {
          "output_type": "stream",
          "text": [
            "<class 'pandas.core.frame.DataFrame'>\n",
            "RangeIndex: 360 entries, 0 to 359\n",
            "Data columns (total 8 columns):\n",
            " #   Column                 Non-Null Count  Dtype  \n",
            "---  ------                 --------------  -----  \n",
            " 0   Stock Symbol           360 non-null    object \n",
            " 1   Company Name           360 non-null    object \n",
            " 2   Last Sale              346 non-null    float64\n",
            " 3   Market Capitalization  360 non-null    float64\n",
            " 4   IPO Year               105 non-null    float64\n",
            " 5   Sector                 238 non-null    object \n",
            " 6   Industry               238 non-null    object \n",
            " 7   Last Update            360 non-null    object \n",
            "dtypes: float64(3), object(5)\n",
            "memory usage: 22.6+ KB\n"
          ],
          "name": "stdout"
        }
      ]
    },
    {
      "cell_type": "code",
      "metadata": {
        "colab": {
          "base_uri": "https://localhost:8080/",
          "height": 210
        },
        "id": "bkpOy7bMcpMA",
        "outputId": "32dee9d6-0ada-4dd9-9bac-12b88797ccc1"
      },
      "source": [
        "amex.head(3)"
      ],
      "execution_count": 5,
      "outputs": [
        {
          "output_type": "execute_result",
          "data": {
            "text/html": [
              "<div>\n",
              "<style scoped>\n",
              "    .dataframe tbody tr th:only-of-type {\n",
              "        vertical-align: middle;\n",
              "    }\n",
              "\n",
              "    .dataframe tbody tr th {\n",
              "        vertical-align: top;\n",
              "    }\n",
              "\n",
              "    .dataframe thead th {\n",
              "        text-align: right;\n",
              "    }\n",
              "</style>\n",
              "<table border=\"1\" class=\"dataframe\">\n",
              "  <thead>\n",
              "    <tr style=\"text-align: right;\">\n",
              "      <th></th>\n",
              "      <th>Stock Symbol</th>\n",
              "      <th>Company Name</th>\n",
              "      <th>Last Sale</th>\n",
              "      <th>Market Capitalization</th>\n",
              "      <th>IPO Year</th>\n",
              "      <th>Sector</th>\n",
              "      <th>Industry</th>\n",
              "      <th>Last Update</th>\n",
              "    </tr>\n",
              "  </thead>\n",
              "  <tbody>\n",
              "    <tr>\n",
              "      <th>0</th>\n",
              "      <td>XXII</td>\n",
              "      <td>22nd Century Group, Inc</td>\n",
              "      <td>1.33</td>\n",
              "      <td>1.206285e+08</td>\n",
              "      <td>NaN</td>\n",
              "      <td>Consumer Non-Durables</td>\n",
              "      <td>Farming/Seeds/Milling</td>\n",
              "      <td>4/26/17</td>\n",
              "    </tr>\n",
              "    <tr>\n",
              "      <th>1</th>\n",
              "      <td>FAX</td>\n",
              "      <td>Aberdeen Asia-Pacific Income Fund Inc</td>\n",
              "      <td>5.00</td>\n",
              "      <td>1.266333e+09</td>\n",
              "      <td>1986.0</td>\n",
              "      <td>NaN</td>\n",
              "      <td>NaN</td>\n",
              "      <td>4/25/17</td>\n",
              "    </tr>\n",
              "    <tr>\n",
              "      <th>2</th>\n",
              "      <td>IAF</td>\n",
              "      <td>Aberdeen Australia Equity Fund Inc</td>\n",
              "      <td>6.15</td>\n",
              "      <td>1.398653e+08</td>\n",
              "      <td>NaN</td>\n",
              "      <td>NaN</td>\n",
              "      <td>NaN</td>\n",
              "      <td>4/23/17</td>\n",
              "    </tr>\n",
              "  </tbody>\n",
              "</table>\n",
              "</div>"
            ],
            "text/plain": [
              "  Stock Symbol  ... Last Update\n",
              "0         XXII  ...     4/26/17\n",
              "1          FAX  ...     4/25/17\n",
              "2          IAF  ...     4/23/17\n",
              "\n",
              "[3 rows x 8 columns]"
            ]
          },
          "metadata": {
            "tags": []
          },
          "execution_count": 5
        }
      ]
    },
    {
      "cell_type": "markdown",
      "metadata": {
        "id": "8xnWueQlcMww"
      },
      "source": [
        "###Properly Parsing Dates\r\n",
        "\r\n",
        "`parse_dates`: Reads the data in a list of given columns as `dtype` `datetime64`, defaults to `False`."
      ]
    },
    {
      "cell_type": "code",
      "metadata": {
        "colab": {
          "base_uri": "https://localhost:8080/"
        },
        "id": "e275EEklcPh_",
        "outputId": "e3b15e85-b855-44c5-c307-60cc6e4aadd4"
      },
      "source": [
        "amex = pd.read_csv('amex-listings.csv', na_values='n/a', parse_dates=['Last Update'])\r\n",
        "amex.info()"
      ],
      "execution_count": 6,
      "outputs": [
        {
          "output_type": "stream",
          "text": [
            "<class 'pandas.core.frame.DataFrame'>\n",
            "RangeIndex: 360 entries, 0 to 359\n",
            "Data columns (total 8 columns):\n",
            " #   Column                 Non-Null Count  Dtype         \n",
            "---  ------                 --------------  -----         \n",
            " 0   Stock Symbol           360 non-null    object        \n",
            " 1   Company Name           360 non-null    object        \n",
            " 2   Last Sale              346 non-null    float64       \n",
            " 3   Market Capitalization  360 non-null    float64       \n",
            " 4   IPO Year               105 non-null    float64       \n",
            " 5   Sector                 238 non-null    object        \n",
            " 6   Industry               238 non-null    object        \n",
            " 7   Last Update            360 non-null    datetime64[ns]\n",
            "dtypes: datetime64[ns](1), float64(3), object(4)\n",
            "memory usage: 22.6+ KB\n"
          ],
          "name": "stdout"
        }
      ]
    },
    {
      "cell_type": "code",
      "metadata": {
        "colab": {
          "base_uri": "https://localhost:8080/",
          "height": 210
        },
        "id": "VlLDIT6QcdO4",
        "outputId": "916cb124-d362-4350-a8bd-edeab5225793"
      },
      "source": [
        "amex.head(3)"
      ],
      "execution_count": 7,
      "outputs": [
        {
          "output_type": "execute_result",
          "data": {
            "text/html": [
              "<div>\n",
              "<style scoped>\n",
              "    .dataframe tbody tr th:only-of-type {\n",
              "        vertical-align: middle;\n",
              "    }\n",
              "\n",
              "    .dataframe tbody tr th {\n",
              "        vertical-align: top;\n",
              "    }\n",
              "\n",
              "    .dataframe thead th {\n",
              "        text-align: right;\n",
              "    }\n",
              "</style>\n",
              "<table border=\"1\" class=\"dataframe\">\n",
              "  <thead>\n",
              "    <tr style=\"text-align: right;\">\n",
              "      <th></th>\n",
              "      <th>Stock Symbol</th>\n",
              "      <th>Company Name</th>\n",
              "      <th>Last Sale</th>\n",
              "      <th>Market Capitalization</th>\n",
              "      <th>IPO Year</th>\n",
              "      <th>Sector</th>\n",
              "      <th>Industry</th>\n",
              "      <th>Last Update</th>\n",
              "    </tr>\n",
              "  </thead>\n",
              "  <tbody>\n",
              "    <tr>\n",
              "      <th>0</th>\n",
              "      <td>XXII</td>\n",
              "      <td>22nd Century Group, Inc</td>\n",
              "      <td>1.33</td>\n",
              "      <td>1.206285e+08</td>\n",
              "      <td>NaN</td>\n",
              "      <td>Consumer Non-Durables</td>\n",
              "      <td>Farming/Seeds/Milling</td>\n",
              "      <td>2017-04-26</td>\n",
              "    </tr>\n",
              "    <tr>\n",
              "      <th>1</th>\n",
              "      <td>FAX</td>\n",
              "      <td>Aberdeen Asia-Pacific Income Fund Inc</td>\n",
              "      <td>5.00</td>\n",
              "      <td>1.266333e+09</td>\n",
              "      <td>1986.0</td>\n",
              "      <td>NaN</td>\n",
              "      <td>NaN</td>\n",
              "      <td>2017-04-25</td>\n",
              "    </tr>\n",
              "    <tr>\n",
              "      <th>2</th>\n",
              "      <td>IAF</td>\n",
              "      <td>Aberdeen Australia Equity Fund Inc</td>\n",
              "      <td>6.15</td>\n",
              "      <td>1.398653e+08</td>\n",
              "      <td>NaN</td>\n",
              "      <td>NaN</td>\n",
              "      <td>NaN</td>\n",
              "      <td>2017-04-23</td>\n",
              "    </tr>\n",
              "  </tbody>\n",
              "</table>\n",
              "</div>"
            ],
            "text/plain": [
              "  Stock Symbol  ... Last Update\n",
              "0         XXII  ...  2017-04-26\n",
              "1          FAX  ...  2017-04-25\n",
              "2          IAF  ...  2017-04-23\n",
              "\n",
              "[3 rows x 8 columns]"
            ]
          },
          "metadata": {
            "tags": []
          },
          "execution_count": 7
        }
      ]
    },
    {
      "cell_type": "markdown",
      "metadata": {
        "id": "8wrDuTLGcvdZ"
      },
      "source": [
        "##Read Data from Excel Sheets"
      ]
    },
    {
      "cell_type": "markdown",
      "metadata": {
        "id": "Te0mPkUyc1BI"
      },
      "source": [
        "###Import Data from Excel\r\n",
        "\r\n",
        "`pd.read_excel(file, sheet_name)`\r\n",
        "\r\n",
        "*   Select first sheet by default with `sheet_name = 0`\r\n",
        "*   Select by name with `sheet_name = 'amex'`\r\n",
        "*   Import several sheets with list such as `sheet_name = ['amex','nasdaq']`\r\n"
      ]
    },
    {
      "cell_type": "code",
      "metadata": {
        "colab": {
          "base_uri": "https://localhost:8080/"
        },
        "id": "5tcn79hQc3UB",
        "outputId": "68c61287-9be7-4f1a-ceee-88dadecdbff7"
      },
      "source": [
        "amex = pd.read_excel('listings.xlsx', sheet_name='amex', na_values='n/a')\r\n",
        "amex.info()"
      ],
      "execution_count": 8,
      "outputs": [
        {
          "output_type": "stream",
          "text": [
            "<class 'pandas.core.frame.DataFrame'>\n",
            "RangeIndex: 360 entries, 0 to 359\n",
            "Data columns (total 7 columns):\n",
            " #   Column                 Non-Null Count  Dtype  \n",
            "---  ------                 --------------  -----  \n",
            " 0   Stock Symbol           360 non-null    object \n",
            " 1   Company Name           360 non-null    object \n",
            " 2   Last Sale              346 non-null    float64\n",
            " 3   Market Capitalization  360 non-null    float64\n",
            " 4   IPO Year               105 non-null    float64\n",
            " 5   Sector                 238 non-null    object \n",
            " 6   Industry               238 non-null    object \n",
            "dtypes: float64(3), object(4)\n",
            "memory usage: 19.8+ KB\n"
          ],
          "name": "stdout"
        }
      ]
    },
    {
      "cell_type": "code",
      "metadata": {
        "colab": {
          "base_uri": "https://localhost:8080/"
        },
        "id": "4EajNSptdUr6",
        "outputId": "7f66b3f0-319f-4ece-ff43-1bbddd36806c"
      },
      "source": [
        "listings = pd.read_excel('listings.xlsx', na_values='n/a', sheet_name=['amex', 'nasdaq'])\r\n",
        "print(listings['amex'].info())\r\n",
        "print(\"\")\r\n",
        "print(listings['nasdaq'].info())"
      ],
      "execution_count": 9,
      "outputs": [
        {
          "output_type": "stream",
          "text": [
            "<class 'pandas.core.frame.DataFrame'>\n",
            "RangeIndex: 360 entries, 0 to 359\n",
            "Data columns (total 7 columns):\n",
            " #   Column                 Non-Null Count  Dtype  \n",
            "---  ------                 --------------  -----  \n",
            " 0   Stock Symbol           360 non-null    object \n",
            " 1   Company Name           360 non-null    object \n",
            " 2   Last Sale              346 non-null    float64\n",
            " 3   Market Capitalization  360 non-null    float64\n",
            " 4   IPO Year               105 non-null    float64\n",
            " 5   Sector                 238 non-null    object \n",
            " 6   Industry               238 non-null    object \n",
            "dtypes: float64(3), object(4)\n",
            "memory usage: 19.8+ KB\n",
            "None\n",
            "\n",
            "<class 'pandas.core.frame.DataFrame'>\n",
            "RangeIndex: 3167 entries, 0 to 3166\n",
            "Data columns (total 7 columns):\n",
            " #   Column                 Non-Null Count  Dtype  \n",
            "---  ------                 --------------  -----  \n",
            " 0   Stock Symbol           3167 non-null   object \n",
            " 1   Company Name           3167 non-null   object \n",
            " 2   Last Sale              3165 non-null   float64\n",
            " 3   Market Capitalization  3167 non-null   float64\n",
            " 4   IPO Year               1386 non-null   float64\n",
            " 5   Sector                 2767 non-null   object \n",
            " 6   Industry               2767 non-null   object \n",
            "dtypes: float64(3), object(4)\n",
            "memory usage: 173.3+ KB\n",
            "None\n"
          ],
          "name": "stdout"
        }
      ]
    },
    {
      "cell_type": "markdown",
      "metadata": {
        "id": "iuumu4RqdySF"
      },
      "source": [
        "###Get Sheet Names"
      ]
    },
    {
      "cell_type": "code",
      "metadata": {
        "colab": {
          "base_uri": "https://localhost:8080/"
        },
        "id": "WvKdLhbWdxyQ",
        "outputId": "2c719ca8-1408-4d0b-f652-76880a2042fc"
      },
      "source": [
        "xls = pd.ExcelFile('listings.xlsx')  #pd.ExcelFile object\r\n",
        "exchanges = xls.sheet_names\r\n",
        "exchanges"
      ],
      "execution_count": 10,
      "outputs": [
        {
          "output_type": "execute_result",
          "data": {
            "text/plain": [
              "['amex', 'nasdaq', 'nyse']"
            ]
          },
          "metadata": {
            "tags": []
          },
          "execution_count": 10
        }
      ]
    },
    {
      "cell_type": "code",
      "metadata": {
        "colab": {
          "base_uri": "https://localhost:8080/"
        },
        "id": "ec552UMieEgR",
        "outputId": "01318a64-f88a-4e77-c8b6-340dec7238aa"
      },
      "source": [
        "nyse = pd.read_excel(xls, sheet_name=exchanges[2], na_values='n/a')\r\n",
        "nyse.info()"
      ],
      "execution_count": 11,
      "outputs": [
        {
          "output_type": "stream",
          "text": [
            "<class 'pandas.core.frame.DataFrame'>\n",
            "RangeIndex: 3147 entries, 0 to 3146\n",
            "Data columns (total 7 columns):\n",
            " #   Column                 Non-Null Count  Dtype  \n",
            "---  ------                 --------------  -----  \n",
            " 0   Stock Symbol           3147 non-null   object \n",
            " 1   Company Name           3147 non-null   object \n",
            " 2   Last Sale              3079 non-null   float64\n",
            " 3   Market Capitalization  3147 non-null   float64\n",
            " 4   IPO Year               1361 non-null   float64\n",
            " 5   Sector                 2177 non-null   object \n",
            " 6   Industry               2177 non-null   object \n",
            "dtypes: float64(3), object(4)\n",
            "memory usage: 172.2+ KB\n"
          ],
          "name": "stdout"
        }
      ]
    },
    {
      "cell_type": "markdown",
      "metadata": {
        "id": "XwqOc5Y2eVOq"
      },
      "source": [
        "##Combining Data from different worksheets"
      ]
    },
    {
      "cell_type": "markdown",
      "metadata": {
        "id": "-492xZfBeZui"
      },
      "source": [
        "###Concatenate two dataframes"
      ]
    },
    {
      "cell_type": "code",
      "metadata": {
        "id": "9G7l-l4becnx"
      },
      "source": [
        "amex = pd.read_excel('listings.xlsx', sheet_name='amex', na_values='n/a')\r\n",
        "nasdaq = pd.read_excel('listings.xlsx', sheet_name='nasdaq', na_values='n/a')\r\n",
        "nyse = pd.read_excel('listings.xlsx', sheet_name='nyse', na_values='n/a')"
      ],
      "execution_count": 12,
      "outputs": []
    },
    {
      "cell_type": "code",
      "metadata": {
        "colab": {
          "base_uri": "https://localhost:8080/"
        },
        "id": "UOOPJRYle5xL",
        "outputId": "3e5321f1-c7c5-41a3-9d7f-78108c717998"
      },
      "source": [
        "pd.concat([amex, nyse]).info()"
      ],
      "execution_count": 13,
      "outputs": [
        {
          "output_type": "stream",
          "text": [
            "<class 'pandas.core.frame.DataFrame'>\n",
            "Int64Index: 3507 entries, 0 to 3146\n",
            "Data columns (total 7 columns):\n",
            " #   Column                 Non-Null Count  Dtype  \n",
            "---  ------                 --------------  -----  \n",
            " 0   Stock Symbol           3507 non-null   object \n",
            " 1   Company Name           3507 non-null   object \n",
            " 2   Last Sale              3425 non-null   float64\n",
            " 3   Market Capitalization  3507 non-null   float64\n",
            " 4   IPO Year               1466 non-null   float64\n",
            " 5   Sector                 2415 non-null   object \n",
            " 6   Industry               2415 non-null   object \n",
            "dtypes: float64(3), object(4)\n",
            "memory usage: 219.2+ KB\n"
          ],
          "name": "stdout"
        }
      ]
    },
    {
      "cell_type": "code",
      "metadata": {
        "colab": {
          "base_uri": "https://localhost:8080/",
          "height": 162
        },
        "id": "7S7OFTvkfGrg",
        "outputId": "867d3f59-4db8-4272-ec24-22933c730fe5"
      },
      "source": [
        "pd.concat([amex, nyse]).head(2)"
      ],
      "execution_count": 14,
      "outputs": [
        {
          "output_type": "execute_result",
          "data": {
            "text/html": [
              "<div>\n",
              "<style scoped>\n",
              "    .dataframe tbody tr th:only-of-type {\n",
              "        vertical-align: middle;\n",
              "    }\n",
              "\n",
              "    .dataframe tbody tr th {\n",
              "        vertical-align: top;\n",
              "    }\n",
              "\n",
              "    .dataframe thead th {\n",
              "        text-align: right;\n",
              "    }\n",
              "</style>\n",
              "<table border=\"1\" class=\"dataframe\">\n",
              "  <thead>\n",
              "    <tr style=\"text-align: right;\">\n",
              "      <th></th>\n",
              "      <th>Stock Symbol</th>\n",
              "      <th>Company Name</th>\n",
              "      <th>Last Sale</th>\n",
              "      <th>Market Capitalization</th>\n",
              "      <th>IPO Year</th>\n",
              "      <th>Sector</th>\n",
              "      <th>Industry</th>\n",
              "    </tr>\n",
              "  </thead>\n",
              "  <tbody>\n",
              "    <tr>\n",
              "      <th>0</th>\n",
              "      <td>XXII</td>\n",
              "      <td>22nd Century Group, Inc</td>\n",
              "      <td>1.33</td>\n",
              "      <td>1.206285e+08</td>\n",
              "      <td>NaN</td>\n",
              "      <td>Consumer Non-Durables</td>\n",
              "      <td>Farming/Seeds/Milling</td>\n",
              "    </tr>\n",
              "    <tr>\n",
              "      <th>1</th>\n",
              "      <td>FAX</td>\n",
              "      <td>Aberdeen Asia-Pacific Income Fund Inc</td>\n",
              "      <td>5.00</td>\n",
              "      <td>1.266333e+09</td>\n",
              "      <td>1986.0</td>\n",
              "      <td>NaN</td>\n",
              "      <td>NaN</td>\n",
              "    </tr>\n",
              "  </tbody>\n",
              "</table>\n",
              "</div>"
            ],
            "text/plain": [
              "  Stock Symbol  ...               Industry\n",
              "0         XXII  ...  Farming/Seeds/Milling\n",
              "1          FAX  ...                    NaN\n",
              "\n",
              "[2 rows x 7 columns]"
            ]
          },
          "metadata": {
            "tags": []
          },
          "execution_count": 14
        }
      ]
    },
    {
      "cell_type": "code",
      "metadata": {
        "colab": {
          "base_uri": "https://localhost:8080/",
          "height": 162
        },
        "id": "Etvg1S9TfeJL",
        "outputId": "2af2b997-15f6-41f6-9611-871873ed1ba2"
      },
      "source": [
        "#Add column to reference source\r\n",
        "amex['Exchange'] = 'AMEX'\r\n",
        "nyse['Exchange'] = 'NYSE'\r\n",
        "\r\n",
        "pd.concat([amex, nyse]).head(2)"
      ],
      "execution_count": 15,
      "outputs": [
        {
          "output_type": "execute_result",
          "data": {
            "text/html": [
              "<div>\n",
              "<style scoped>\n",
              "    .dataframe tbody tr th:only-of-type {\n",
              "        vertical-align: middle;\n",
              "    }\n",
              "\n",
              "    .dataframe tbody tr th {\n",
              "        vertical-align: top;\n",
              "    }\n",
              "\n",
              "    .dataframe thead th {\n",
              "        text-align: right;\n",
              "    }\n",
              "</style>\n",
              "<table border=\"1\" class=\"dataframe\">\n",
              "  <thead>\n",
              "    <tr style=\"text-align: right;\">\n",
              "      <th></th>\n",
              "      <th>Stock Symbol</th>\n",
              "      <th>Company Name</th>\n",
              "      <th>Last Sale</th>\n",
              "      <th>Market Capitalization</th>\n",
              "      <th>IPO Year</th>\n",
              "      <th>Sector</th>\n",
              "      <th>Industry</th>\n",
              "      <th>Exchange</th>\n",
              "    </tr>\n",
              "  </thead>\n",
              "  <tbody>\n",
              "    <tr>\n",
              "      <th>0</th>\n",
              "      <td>XXII</td>\n",
              "      <td>22nd Century Group, Inc</td>\n",
              "      <td>1.33</td>\n",
              "      <td>1.206285e+08</td>\n",
              "      <td>NaN</td>\n",
              "      <td>Consumer Non-Durables</td>\n",
              "      <td>Farming/Seeds/Milling</td>\n",
              "      <td>AMEX</td>\n",
              "    </tr>\n",
              "    <tr>\n",
              "      <th>1</th>\n",
              "      <td>FAX</td>\n",
              "      <td>Aberdeen Asia-Pacific Income Fund Inc</td>\n",
              "      <td>5.00</td>\n",
              "      <td>1.266333e+09</td>\n",
              "      <td>1986.0</td>\n",
              "      <td>NaN</td>\n",
              "      <td>NaN</td>\n",
              "      <td>AMEX</td>\n",
              "    </tr>\n",
              "  </tbody>\n",
              "</table>\n",
              "</div>"
            ],
            "text/plain": [
              "  Stock Symbol  ... Exchange\n",
              "0         XXII  ...     AMEX\n",
              "1          FAX  ...     AMEX\n",
              "\n",
              "[2 rows x 8 columns]"
            ]
          },
          "metadata": {
            "tags": []
          },
          "execution_count": 15
        }
      ]
    },
    {
      "cell_type": "markdown",
      "metadata": {
        "id": "cP1_iYFdf0OS"
      },
      "source": [
        "###Combine three DataFrames"
      ]
    },
    {
      "cell_type": "code",
      "metadata": {
        "id": "EPjM0MaNf31K"
      },
      "source": [
        "xls = pd.ExcelFile('listings.xlsx')\r\n",
        "\r\n",
        "exchanges = xls.sheet_names\r\n",
        "\r\n",
        "listings = [] #Create empty list to collect DataFrames\r\n",
        "\r\n",
        "for exchange in exchanges:\r\n",
        "  listing = pd.read_excel(xls, sheet_name=exchange)\r\n",
        "\r\n",
        "  listing['Exchange'] = exchange  #Add reference column\r\n",
        "\r\n",
        "  listings.append(listing)  #Add DataFrame to list\r\n",
        "\r\n",
        "combined_listings = pd.concat(listings)  #List of DataFrames"
      ],
      "execution_count": 16,
      "outputs": []
    },
    {
      "cell_type": "code",
      "metadata": {
        "colab": {
          "base_uri": "https://localhost:8080/"
        },
        "id": "FjJSEeLQgis8",
        "outputId": "29c6984d-ac5a-4910-cce8-c1e1ad1baf37"
      },
      "source": [
        "combined_listings.info()"
      ],
      "execution_count": 17,
      "outputs": [
        {
          "output_type": "stream",
          "text": [
            "<class 'pandas.core.frame.DataFrame'>\n",
            "Int64Index: 6674 entries, 0 to 3146\n",
            "Data columns (total 8 columns):\n",
            " #   Column                 Non-Null Count  Dtype  \n",
            "---  ------                 --------------  -----  \n",
            " 0   Stock Symbol           6674 non-null   object \n",
            " 1   Company Name           6674 non-null   object \n",
            " 2   Last Sale              6590 non-null   float64\n",
            " 3   Market Capitalization  6674 non-null   float64\n",
            " 4   IPO Year               2852 non-null   float64\n",
            " 5   Sector                 5182 non-null   object \n",
            " 6   Industry               5182 non-null   object \n",
            " 7   Exchange               6674 non-null   object \n",
            "dtypes: float64(3), object(5)\n",
            "memory usage: 469.3+ KB\n"
          ],
          "name": "stdout"
        }
      ]
    },
    {
      "cell_type": "markdown",
      "metadata": {
        "id": "fxDn3B6PW4sO"
      },
      "source": [
        "## Conclusion\r\n",
        "\r\n",
        "In this jupyter notebook, I have explained how to import, clean and combine data from Excel Workbook sheets into a pandas DataFrame."
      ]
    }
  ]
}