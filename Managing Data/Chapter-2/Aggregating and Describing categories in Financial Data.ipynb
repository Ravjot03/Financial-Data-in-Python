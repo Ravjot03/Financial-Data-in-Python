{
  "nbformat": 4,
  "nbformat_minor": 0,
  "metadata": {
    "colab": {
      "name": "Importing&Managing_Financial_Data_Python_Ch-4_DataCamp.ipynb",
      "provenance": [],
      "collapsed_sections": []
    },
    "kernelspec": {
      "name": "python3",
      "display_name": "Python 3"
    }
  },
  "cells": [
    {
      "cell_type": "markdown",
      "metadata": {
        "id": "_PhZFUyP23fg"
      },
      "source": [
        "# Aggregating & Describing categories in Financial Data "
      ]
    },
    {
      "cell_type": "markdown",
      "metadata": {
        "id": "vwrS9i1R23co"
      },
      "source": [
        "## Work By - **RAVJOT SINGH**\r\n",
        "\r\n",
        "E-Mail - ravjot313@gmail.com\r\n",
        "\r\n",
        "Website - https://ravjot03.github.io/\r\n",
        "\r\n",
        "LinkedIn - https://www.linkedin.com/in/ravjot03/\r\n",
        "\r\n",
        "GitHub - https://github.com/Ravjot03\r\n",
        "\r\n",
        "Medium - https://medium.com/@ravjot03"
      ]
    },
    {
      "cell_type": "markdown",
      "metadata": {
        "id": "-unLHUtt3bQt"
      },
      "source": [
        "## Importing the required libraries"
      ]
    },
    {
      "cell_type": "code",
      "metadata": {
        "id": "Xjxj4Q-FZft7"
      },
      "source": [
        "import pandas as pd\r\n",
        "import numpy as np\r\n",
        "import matplotlib.pyplot as plt"
      ],
      "execution_count": 1,
      "outputs": []
    },
    {
      "cell_type": "markdown",
      "metadata": {
        "id": "zBiEw44V_MFp"
      },
      "source": [
        "## Importing the dataset"
      ]
    },
    {
      "cell_type": "code",
      "metadata": {
        "id": "Qs1u_qgSip9R"
      },
      "source": [
        "nasdaq = pd.read_excel('listings.xlsx', sheet_name = 'nasdaq', na_values='n/a')"
      ],
      "execution_count": 2,
      "outputs": []
    },
    {
      "cell_type": "code",
      "metadata": {
        "colab": {
          "base_uri": "https://localhost:8080/"
        },
        "id": "w7JBPkNqi2DS",
        "outputId": "9a2560fe-b275-4c65-8d10-5e8cef20a7e9"
      },
      "source": [
        "nasdaq.info()"
      ],
      "execution_count": 3,
      "outputs": [
        {
          "output_type": "stream",
          "text": [
            "<class 'pandas.core.frame.DataFrame'>\n",
            "RangeIndex: 3167 entries, 0 to 3166\n",
            "Data columns (total 7 columns):\n",
            " #   Column                 Non-Null Count  Dtype  \n",
            "---  ------                 --------------  -----  \n",
            " 0   Stock Symbol           3167 non-null   object \n",
            " 1   Company Name           3167 non-null   object \n",
            " 2   Last Sale              3165 non-null   float64\n",
            " 3   Market Capitalization  3167 non-null   float64\n",
            " 4   IPO Year               1386 non-null   float64\n",
            " 5   Sector                 2767 non-null   object \n",
            " 6   Industry               2767 non-null   object \n",
            "dtypes: float64(3), object(4)\n",
            "memory usage: 173.3+ KB\n"
          ],
          "name": "stdout"
        }
      ]
    },
    {
      "cell_type": "markdown",
      "metadata": {
        "id": "Zro7QQwW_sMt"
      },
      "source": [
        "Converting `Market Capitalization` column into Million Dollar units."
      ]
    },
    {
      "cell_type": "code",
      "metadata": {
        "id": "8heiOMu4jHfH"
      },
      "source": [
        "nasdaq['Market Capitalization'] = nasdaq['Market Capitalization'].div(1e6)"
      ],
      "execution_count": 4,
      "outputs": []
    },
    {
      "cell_type": "markdown",
      "metadata": {
        "id": "sIOGnfEK__vV"
      },
      "source": [
        "Grouping the data by calling the `pandas` `groupby` method, which creates a new object. This method expects to pass a column label for a categorical column.\r\n",
        "\r\n",
        "Assigned the grouped data to the variable `nasdaq_by_sector`."
      ]
    },
    {
      "cell_type": "markdown",
      "metadata": {
        "id": "eVtPXc31xdzT"
      },
      "source": [
        "##Part-1\r\n",
        "\r\n",
        "## Group by one variable and aggregate"
      ]
    },
    {
      "cell_type": "markdown",
      "metadata": {
        "id": "xbABycTmBvEa"
      },
      "source": [
        "## Grouping data"
      ]
    },
    {
      "cell_type": "code",
      "metadata": {
        "id": "WiF1yxIzjNYH"
      },
      "source": [
        "nasdaq_by_sector = nasdaq.groupby('Sector') #Creating a groupby object"
      ],
      "execution_count": 5,
      "outputs": []
    },
    {
      "cell_type": "markdown",
      "metadata": {
        "id": "tuwmcm2aAbek"
      },
      "source": [
        "Iterating over this new object in a loop. In each iteration, the object returns two items, just like a dictionary: \r\n",
        "\r\n",
        "First, a key that corresponds to the category represented by this group of data.\r\n",
        "\r\n",
        "Second, a DataFrame containing the information for this group. \r\n",
        "\r\n",
        "Now, just selecting the `Market Capitalization` column of the returned DataFrame, and applying an aggregation like the `mean` to it. "
      ]
    },
    {
      "cell_type": "markdown",
      "metadata": {
        "id": "5-bSoMKfB2fh"
      },
      "source": [
        "### Using a for loop"
      ]
    },
    {
      "cell_type": "code",
      "metadata": {
        "colab": {
          "base_uri": "https://localhost:8080/"
        },
        "id": "UeQx4qgaAfAC",
        "outputId": "f8f94cbb-868f-4fa8-d8a8-f41511537f22"
      },
      "source": [
        "for sector, data in nasdaq_by_sector:\r\n",
        "  print(sector, data['Market Capitalization'].mean())"
      ],
      "execution_count": 6,
      "outputs": [
        {
          "output_type": "stream",
          "text": [
            "Basic Industries 724.8999338580088\n",
            "Capital Goods 1511.2373727809975\n",
            "Consumer Durables 839.8026066270018\n",
            "Consumer Non-Durables 3104.0512055241334\n",
            "Consumer Services 5582.344174819412\n",
            "Energy 826.607607854727\n",
            "Finance 1044.0902047996321\n",
            "Health Care 1758.709196756265\n",
            "Miscellaneous 3445.655934557965\n",
            "Public Utilities 2357.8653150733353\n",
            "Technology 10883.43421354678\n",
            "Transportation 2869.660006726413\n"
          ],
          "name": "stdout"
        }
      ]
    },
    {
      "cell_type": "markdown",
      "metadata": {
        "id": "HKMtLoVIA2f-"
      },
      "source": [
        "The code returns both the name of the category, and the average market cap in million dollars for each category."
      ]
    },
    {
      "cell_type": "markdown",
      "metadata": {
        "id": "QaM3o4pmB6Dy"
      },
      "source": [
        "### Skipping the loop"
      ]
    },
    {
      "cell_type": "markdown",
      "metadata": {
        "id": "Ga_z_aSnBJwA"
      },
      "source": [
        "Pandas actually makes it easier to aggregate by categories. Instead of using a `for loop`, we can just select any numerical column from the grouped data, and apply an aggregate statistic.\r\n",
        "\r\n",
        "We are again using the `mean` to aggregate the market cap in millions per sector on the NASDAQ. \r\n",
        "\r\n",
        "Pandas returns a series with the category names as row labels, and the aggregate statistics as values."
      ]
    },
    {
      "cell_type": "code",
      "metadata": {
        "colab": {
          "base_uri": "https://localhost:8080/"
        },
        "id": "upFKvi5mjrSn",
        "outputId": "94497089-2623-4f73-b987-88b2fbe8a680"
      },
      "source": [
        "mcap_by_sector = nasdaq_by_sector['Market Capitalization'].mean().sort_values(ascending=False)\r\n",
        "mcap_by_sector"
      ],
      "execution_count": 7,
      "outputs": [
        {
          "output_type": "execute_result",
          "data": {
            "text/plain": [
              "Sector\n",
              "Technology               10883.434214\n",
              "Consumer Services         5582.344175\n",
              "Miscellaneous             3445.655935\n",
              "Consumer Non-Durables     3104.051206\n",
              "Transportation            2869.660007\n",
              "Public Utilities          2357.865315\n",
              "Health Care               1758.709197\n",
              "Capital Goods             1511.237373\n",
              "Finance                   1044.090205\n",
              "Consumer Durables          839.802607\n",
              "Energy                     826.607608\n",
              "Basic Industries           724.899934\n",
              "Name: Market Capitalization, dtype: float64"
            ]
          },
          "metadata": {
            "tags": []
          },
          "execution_count": 7
        }
      ]
    },
    {
      "cell_type": "markdown",
      "metadata": {
        "id": "GAHi8XIqB_Zl"
      },
      "source": [
        "## Visualizing data"
      ]
    },
    {
      "cell_type": "code",
      "metadata": {
        "colab": {
          "base_uri": "https://localhost:8080/",
          "height": 281
        },
        "id": "zag-Y3FGj3Wf",
        "outputId": "4e26b4e0-c664-48c1-ddd4-356ce50a292a"
      },
      "source": [
        "title = 'NASDAQ - Average Market Cap by Sector'  #title of the plot\r\n",
        "\r\n",
        "mcap_by_sector.plot(kind='barh', title=title) #kind='barh' for horizontal bar chart\r\n",
        "plt.show()"
      ],
      "execution_count": 8,
      "outputs": [
        {
          "output_type": "display_data",
          "data": {
            "image/png": "[encoded data removed]",
            "text/plain": [
              "<Figure size 432x288 with 1 Axes>"
            ]
          },
          "metadata": {
            "tags": [],
            "needs_background": "light"
          }
        }
      ]
    },
    {
      "cell_type": "markdown",
      "metadata": {
        "id": "DVxZNmOVCDdX"
      },
      "source": [
        "## Aggregating summary\r\n",
        "\r\n",
        "Aggregating summary for all numeric columns"
      ]
    },
    {
      "cell_type": "code",
      "metadata": {
        "colab": {
          "base_uri": "https://localhost:8080/",
          "height": 447
        },
        "id": "Wdr6x42-kh-s",
        "outputId": "15b66d07-7b50-497d-a669-ddbcd85c0ba7"
      },
      "source": [
        "nasdaq_by_sector.mean()"
      ],
      "execution_count": 9,
      "outputs": [
        {
          "output_type": "execute_result",
          "data": {
            "text/html": [
              "<div>\n",
              "<style scoped>\n",
              "    .dataframe tbody tr th:only-of-type {\n",
              "        vertical-align: middle;\n",
              "    }\n",
              "\n",
              "    .dataframe tbody tr th {\n",
              "        vertical-align: top;\n",
              "    }\n",
              "\n",
              "    .dataframe thead th {\n",
              "        text-align: right;\n",
              "    }\n",
              "</style>\n",
              "<table border=\"1\" class=\"dataframe\">\n",
              "  <thead>\n",
              "    <tr style=\"text-align: right;\">\n",
              "      <th></th>\n",
              "      <th>Last Sale</th>\n",
              "      <th>Market Capitalization</th>\n",
              "      <th>IPO Year</th>\n",
              "    </tr>\n",
              "    <tr>\n",
              "      <th>Sector</th>\n",
              "      <th></th>\n",
              "      <th></th>\n",
              "      <th></th>\n",
              "    </tr>\n",
              "  </thead>\n",
              "  <tbody>\n",
              "    <tr>\n",
              "      <th>Basic Industries</th>\n",
              "      <td>21.597679</td>\n",
              "      <td>724.899934</td>\n",
              "      <td>2000.766667</td>\n",
              "    </tr>\n",
              "    <tr>\n",
              "      <th>Capital Goods</th>\n",
              "      <td>26.188681</td>\n",
              "      <td>1511.237373</td>\n",
              "      <td>2001.324675</td>\n",
              "    </tr>\n",
              "    <tr>\n",
              "      <th>Consumer Durables</th>\n",
              "      <td>24.363391</td>\n",
              "      <td>839.802607</td>\n",
              "      <td>2003.222222</td>\n",
              "    </tr>\n",
              "    <tr>\n",
              "      <th>Consumer Non-Durables</th>\n",
              "      <td>25.749565</td>\n",
              "      <td>3104.051206</td>\n",
              "      <td>2000.609756</td>\n",
              "    </tr>\n",
              "    <tr>\n",
              "      <th>Consumer Services</th>\n",
              "      <td>34.917318</td>\n",
              "      <td>5582.344175</td>\n",
              "      <td>2004.104575</td>\n",
              "    </tr>\n",
              "    <tr>\n",
              "      <th>Energy</th>\n",
              "      <td>15.496834</td>\n",
              "      <td>826.607608</td>\n",
              "      <td>2008.034483</td>\n",
              "    </tr>\n",
              "    <tr>\n",
              "      <th>Finance</th>\n",
              "      <td>29.644242</td>\n",
              "      <td>1044.090205</td>\n",
              "      <td>2010.321101</td>\n",
              "    </tr>\n",
              "    <tr>\n",
              "      <th>Health Care</th>\n",
              "      <td>19.462531</td>\n",
              "      <td>1758.709197</td>\n",
              "      <td>2009.240409</td>\n",
              "    </tr>\n",
              "    <tr>\n",
              "      <th>Miscellaneous</th>\n",
              "      <td>46.094369</td>\n",
              "      <td>3445.655935</td>\n",
              "      <td>2004.333333</td>\n",
              "    </tr>\n",
              "    <tr>\n",
              "      <th>Public Utilities</th>\n",
              "      <td>18.643705</td>\n",
              "      <td>2357.865315</td>\n",
              "      <td>2006.040000</td>\n",
              "    </tr>\n",
              "    <tr>\n",
              "      <th>Technology</th>\n",
              "      <td>31.100317</td>\n",
              "      <td>10883.434214</td>\n",
              "      <td>2002.653285</td>\n",
              "    </tr>\n",
              "    <tr>\n",
              "      <th>Transportation</th>\n",
              "      <td>28.096758</td>\n",
              "      <td>2869.660007</td>\n",
              "      <td>1997.809524</td>\n",
              "    </tr>\n",
              "  </tbody>\n",
              "</table>\n",
              "</div>"
            ],
            "text/plain": [
              "                       Last Sale  Market Capitalization     IPO Year\n",
              "Sector                                                              \n",
              "Basic Industries       21.597679             724.899934  2000.766667\n",
              "Capital Goods          26.188681            1511.237373  2001.324675\n",
              "Consumer Durables      24.363391             839.802607  2003.222222\n",
              "Consumer Non-Durables  25.749565            3104.051206  2000.609756\n",
              "Consumer Services      34.917318            5582.344175  2004.104575\n",
              "Energy                 15.496834             826.607608  2008.034483\n",
              "Finance                29.644242            1044.090205  2010.321101\n",
              "Health Care            19.462531            1758.709197  2009.240409\n",
              "Miscellaneous          46.094369            3445.655935  2004.333333\n",
              "Public Utilities       18.643705            2357.865315  2006.040000\n",
              "Technology             31.100317           10883.434214  2002.653285\n",
              "Transportation         28.096758            2869.660007  1997.809524"
            ]
          },
          "metadata": {
            "tags": []
          },
          "execution_count": 9
        }
      ]
    },
    {
      "cell_type": "markdown",
      "metadata": {
        "id": "KQJAAljaxv08"
      },
      "source": [
        "## Part-2\r\n",
        "\r\n",
        "##  *  Group by two or more variables\r\n",
        "##  *  Applying multiple aggregations"
      ]
    },
    {
      "cell_type": "markdown",
      "metadata": {
        "id": "5ZCn-1KXyBUB"
      },
      "source": [
        "## Applying multiple aggregations\r\n",
        "\r\n",
        "The `agg` method allows to pass a list with names of statistical metrics. Pandas will then calculate each of these metrics for the selected column."
      ]
    },
    {
      "cell_type": "code",
      "metadata": {
        "colab": {
          "base_uri": "https://localhost:8080/",
          "height": 447
        },
        "id": "vF6x3X2Ok2iS",
        "outputId": "7beb3050-c72f-42f1-8c99-d4aada189ec7"
      },
      "source": [
        "nasdaq_by_sector['Market Capitalization'].agg(['size', 'mean']).sort_values('size')"
      ],
      "execution_count": 10,
      "outputs": [
        {
          "output_type": "execute_result",
          "data": {
            "text/html": [
              "<div>\n",
              "<style scoped>\n",
              "    .dataframe tbody tr th:only-of-type {\n",
              "        vertical-align: middle;\n",
              "    }\n",
              "\n",
              "    .dataframe tbody tr th {\n",
              "        vertical-align: top;\n",
              "    }\n",
              "\n",
              "    .dataframe thead th {\n",
              "        text-align: right;\n",
              "    }\n",
              "</style>\n",
              "<table border=\"1\" class=\"dataframe\">\n",
              "  <thead>\n",
              "    <tr style=\"text-align: right;\">\n",
              "      <th></th>\n",
              "      <th>size</th>\n",
              "      <th>mean</th>\n",
              "    </tr>\n",
              "    <tr>\n",
              "      <th>Sector</th>\n",
              "      <th></th>\n",
              "      <th></th>\n",
              "    </tr>\n",
              "  </thead>\n",
              "  <tbody>\n",
              "    <tr>\n",
              "      <th>Transportation</th>\n",
              "      <td>52</td>\n",
              "      <td>2869.660007</td>\n",
              "    </tr>\n",
              "    <tr>\n",
              "      <th>Energy</th>\n",
              "      <td>66</td>\n",
              "      <td>826.607608</td>\n",
              "    </tr>\n",
              "    <tr>\n",
              "      <th>Public Utilities</th>\n",
              "      <td>66</td>\n",
              "      <td>2357.865315</td>\n",
              "    </tr>\n",
              "    <tr>\n",
              "      <th>Basic Industries</th>\n",
              "      <td>78</td>\n",
              "      <td>724.899934</td>\n",
              "    </tr>\n",
              "    <tr>\n",
              "      <th>Consumer Durables</th>\n",
              "      <td>88</td>\n",
              "      <td>839.802607</td>\n",
              "    </tr>\n",
              "    <tr>\n",
              "      <th>Miscellaneous</th>\n",
              "      <td>89</td>\n",
              "      <td>3445.655935</td>\n",
              "    </tr>\n",
              "    <tr>\n",
              "      <th>Consumer Non-Durables</th>\n",
              "      <td>103</td>\n",
              "      <td>3104.051206</td>\n",
              "    </tr>\n",
              "    <tr>\n",
              "      <th>Capital Goods</th>\n",
              "      <td>172</td>\n",
              "      <td>1511.237373</td>\n",
              "    </tr>\n",
              "    <tr>\n",
              "      <th>Consumer Services</th>\n",
              "      <td>348</td>\n",
              "      <td>5582.344175</td>\n",
              "    </tr>\n",
              "    <tr>\n",
              "      <th>Technology</th>\n",
              "      <td>433</td>\n",
              "      <td>10883.434214</td>\n",
              "    </tr>\n",
              "    <tr>\n",
              "      <th>Finance</th>\n",
              "      <td>627</td>\n",
              "      <td>1044.090205</td>\n",
              "    </tr>\n",
              "    <tr>\n",
              "      <th>Health Care</th>\n",
              "      <td>645</td>\n",
              "      <td>1758.709197</td>\n",
              "    </tr>\n",
              "  </tbody>\n",
              "</table>\n",
              "</div>"
            ],
            "text/plain": [
              "                       size          mean\n",
              "Sector                                   \n",
              "Transportation           52   2869.660007\n",
              "Energy                   66    826.607608\n",
              "Public Utilities         66   2357.865315\n",
              "Basic Industries         78    724.899934\n",
              "Consumer Durables        88    839.802607\n",
              "Miscellaneous            89   3445.655935\n",
              "Consumer Non-Durables   103   3104.051206\n",
              "Capital Goods           172   1511.237373\n",
              "Consumer Services       348   5582.344175\n",
              "Technology              433  10883.434214\n",
              "Finance                 627   1044.090205\n",
              "Health Care             645   1758.709197"
            ]
          },
          "metadata": {
            "tags": []
          },
          "execution_count": 10
        }
      ]
    },
    {
      "cell_type": "markdown",
      "metadata": {
        "id": "D3MlzLYwzkeR"
      },
      "source": [
        "The resulting DataFrame have the categories as row labels, and the metrics as columns with appropriate labels."
      ]
    },
    {
      "cell_type": "markdown",
      "metadata": {
        "id": "lsOur9aMyLHZ"
      },
      "source": [
        "### Adding new labels\r\n",
        "We renamed the `Market cap` column containing the count to `'number of observations'` instead of `size`, and the column containing the `mean` to `'average'`."
      ]
    },
    {
      "cell_type": "code",
      "metadata": {
        "colab": {
          "base_uri": "https://localhost:8080/",
          "height": 447
        },
        "id": "VWLAOi65bMk7",
        "outputId": "b6de52af-858a-4ca6-c843-9a101a1a3c59"
      },
      "source": [
        "nasdaq_by_sector['Market Capitalization'].agg(Observations= 'size', Average= 'mean')"
      ],
      "execution_count": 11,
      "outputs": [
        {
          "output_type": "execute_result",
          "data": {
            "text/html": [
              "<div>\n",
              "<style scoped>\n",
              "    .dataframe tbody tr th:only-of-type {\n",
              "        vertical-align: middle;\n",
              "    }\n",
              "\n",
              "    .dataframe tbody tr th {\n",
              "        vertical-align: top;\n",
              "    }\n",
              "\n",
              "    .dataframe thead th {\n",
              "        text-align: right;\n",
              "    }\n",
              "</style>\n",
              "<table border=\"1\" class=\"dataframe\">\n",
              "  <thead>\n",
              "    <tr style=\"text-align: right;\">\n",
              "      <th></th>\n",
              "      <th>Observations</th>\n",
              "      <th>Average</th>\n",
              "    </tr>\n",
              "    <tr>\n",
              "      <th>Sector</th>\n",
              "      <th></th>\n",
              "      <th></th>\n",
              "    </tr>\n",
              "  </thead>\n",
              "  <tbody>\n",
              "    <tr>\n",
              "      <th>Basic Industries</th>\n",
              "      <td>78</td>\n",
              "      <td>724.899934</td>\n",
              "    </tr>\n",
              "    <tr>\n",
              "      <th>Capital Goods</th>\n",
              "      <td>172</td>\n",
              "      <td>1511.237373</td>\n",
              "    </tr>\n",
              "    <tr>\n",
              "      <th>Consumer Durables</th>\n",
              "      <td>88</td>\n",
              "      <td>839.802607</td>\n",
              "    </tr>\n",
              "    <tr>\n",
              "      <th>Consumer Non-Durables</th>\n",
              "      <td>103</td>\n",
              "      <td>3104.051206</td>\n",
              "    </tr>\n",
              "    <tr>\n",
              "      <th>Consumer Services</th>\n",
              "      <td>348</td>\n",
              "      <td>5582.344175</td>\n",
              "    </tr>\n",
              "    <tr>\n",
              "      <th>Energy</th>\n",
              "      <td>66</td>\n",
              "      <td>826.607608</td>\n",
              "    </tr>\n",
              "    <tr>\n",
              "      <th>Finance</th>\n",
              "      <td>627</td>\n",
              "      <td>1044.090205</td>\n",
              "    </tr>\n",
              "    <tr>\n",
              "      <th>Health Care</th>\n",
              "      <td>645</td>\n",
              "      <td>1758.709197</td>\n",
              "    </tr>\n",
              "    <tr>\n",
              "      <th>Miscellaneous</th>\n",
              "      <td>89</td>\n",
              "      <td>3445.655935</td>\n",
              "    </tr>\n",
              "    <tr>\n",
              "      <th>Public Utilities</th>\n",
              "      <td>66</td>\n",
              "      <td>2357.865315</td>\n",
              "    </tr>\n",
              "    <tr>\n",
              "      <th>Technology</th>\n",
              "      <td>433</td>\n",
              "      <td>10883.434214</td>\n",
              "    </tr>\n",
              "    <tr>\n",
              "      <th>Transportation</th>\n",
              "      <td>52</td>\n",
              "      <td>2869.660007</td>\n",
              "    </tr>\n",
              "  </tbody>\n",
              "</table>\n",
              "</div>"
            ],
            "text/plain": [
              "                       Observations       Average\n",
              "Sector                                           \n",
              "Basic Industries                 78    724.899934\n",
              "Capital Goods                   172   1511.237373\n",
              "Consumer Durables                88    839.802607\n",
              "Consumer Non-Durables           103   3104.051206\n",
              "Consumer Services               348   5582.344175\n",
              "Energy                           66    826.607608\n",
              "Finance                         627   1044.090205\n",
              "Health Care                     645   1758.709197\n",
              "Miscellaneous                    89   3445.655935\n",
              "Public Utilities                 66   2357.865315\n",
              "Technology                      433  10883.434214\n",
              "Transportation                   52   2869.660007"
            ]
          },
          "metadata": {
            "tags": []
          },
          "execution_count": 11
        }
      ]
    },
    {
      "cell_type": "markdown",
      "metadata": {
        "id": "YIwUAXfmyZPJ"
      },
      "source": [
        "### Different statistics by column\r\n",
        "The `agg` method allows yet another way to aggregate the grouped data. If we call this method on the grouped data before selecting a column, we can pass a dictionary to select both columns and methods. \r\n",
        "\r\n",
        "Create a dictionary, and select as keys one or more numeric columns. \r\n",
        "\r\n",
        "As we have done, we are using the `market cap` and the `IPO Year`. Then, select as values of the dictionary the statistical methods that would like to calculate for these columns."
      ]
    },
    {
      "cell_type": "code",
      "metadata": {
        "colab": {
          "base_uri": "https://localhost:8080/",
          "height": 447
        },
        "id": "M2b1h2_FcC5K",
        "outputId": "edbdbac9-cba1-4793-990a-79dae0e2c4dd"
      },
      "source": [
        "nasdaq_by_sector.agg({'Market Capitalization': 'size', 'IPO Year':'median'})"
      ],
      "execution_count": 12,
      "outputs": [
        {
          "output_type": "execute_result",
          "data": {
            "text/html": [
              "<div>\n",
              "<style scoped>\n",
              "    .dataframe tbody tr th:only-of-type {\n",
              "        vertical-align: middle;\n",
              "    }\n",
              "\n",
              "    .dataframe tbody tr th {\n",
              "        vertical-align: top;\n",
              "    }\n",
              "\n",
              "    .dataframe thead th {\n",
              "        text-align: right;\n",
              "    }\n",
              "</style>\n",
              "<table border=\"1\" class=\"dataframe\">\n",
              "  <thead>\n",
              "    <tr style=\"text-align: right;\">\n",
              "      <th></th>\n",
              "      <th>Market Capitalization</th>\n",
              "      <th>IPO Year</th>\n",
              "    </tr>\n",
              "    <tr>\n",
              "      <th>Sector</th>\n",
              "      <th></th>\n",
              "      <th></th>\n",
              "    </tr>\n",
              "  </thead>\n",
              "  <tbody>\n",
              "    <tr>\n",
              "      <th>Basic Industries</th>\n",
              "      <td>78</td>\n",
              "      <td>1996.5</td>\n",
              "    </tr>\n",
              "    <tr>\n",
              "      <th>Capital Goods</th>\n",
              "      <td>172</td>\n",
              "      <td>2000.0</td>\n",
              "    </tr>\n",
              "    <tr>\n",
              "      <th>Consumer Durables</th>\n",
              "      <td>88</td>\n",
              "      <td>2002.5</td>\n",
              "    </tr>\n",
              "    <tr>\n",
              "      <th>Consumer Non-Durables</th>\n",
              "      <td>103</td>\n",
              "      <td>1998.0</td>\n",
              "    </tr>\n",
              "    <tr>\n",
              "      <th>Consumer Services</th>\n",
              "      <td>348</td>\n",
              "      <td>2005.0</td>\n",
              "    </tr>\n",
              "    <tr>\n",
              "      <th>Energy</th>\n",
              "      <td>66</td>\n",
              "      <td>2011.0</td>\n",
              "    </tr>\n",
              "    <tr>\n",
              "      <th>Finance</th>\n",
              "      <td>627</td>\n",
              "      <td>2014.0</td>\n",
              "    </tr>\n",
              "    <tr>\n",
              "      <th>Health Care</th>\n",
              "      <td>645</td>\n",
              "      <td>2014.0</td>\n",
              "    </tr>\n",
              "    <tr>\n",
              "      <th>Miscellaneous</th>\n",
              "      <td>89</td>\n",
              "      <td>2005.0</td>\n",
              "    </tr>\n",
              "    <tr>\n",
              "      <th>Public Utilities</th>\n",
              "      <td>66</td>\n",
              "      <td>2007.0</td>\n",
              "    </tr>\n",
              "    <tr>\n",
              "      <th>Technology</th>\n",
              "      <td>433</td>\n",
              "      <td>2001.5</td>\n",
              "    </tr>\n",
              "    <tr>\n",
              "      <th>Transportation</th>\n",
              "      <td>52</td>\n",
              "      <td>1997.0</td>\n",
              "    </tr>\n",
              "  </tbody>\n",
              "</table>\n",
              "</div>"
            ],
            "text/plain": [
              "                       Market Capitalization  IPO Year\n",
              "Sector                                                \n",
              "Basic Industries                          78    1996.5\n",
              "Capital Goods                            172    2000.0\n",
              "Consumer Durables                         88    2002.5\n",
              "Consumer Non-Durables                    103    1998.0\n",
              "Consumer Services                        348    2005.0\n",
              "Energy                                    66    2011.0\n",
              "Finance                                  627    2014.0\n",
              "Health Care                              645    2014.0\n",
              "Miscellaneous                             89    2005.0\n",
              "Public Utilities                          66    2007.0\n",
              "Technology                               433    2001.5\n",
              "Transportation                            52    1997.0"
            ]
          },
          "metadata": {
            "tags": []
          },
          "execution_count": 12
        }
      ]
    },
    {
      "cell_type": "markdown",
      "metadata": {
        "id": "KYfvfI2yyehx"
      },
      "source": [
        "## Aggregating by 2 categories\r\n",
        "\r\n",
        "Let's now aggregate by two or more categories at the same time. Instead of passing a single column to the `groupby` method, create a list with several column labels. And Pandas will group the data accordingly."
      ]
    },
    {
      "cell_type": "code",
      "metadata": {
        "colab": {
          "base_uri": "https://localhost:8080/"
        },
        "id": "od5DtjEBcstQ",
        "outputId": "32363a1f-cd13-4ba8-8a98-9c720d73b965"
      },
      "source": [
        "nasdaq_by_sector_year = nasdaq.groupby(['Sector', 'IPO Year'])\r\n",
        "nasdaq_by_sector_year['Market Capitalization'].agg('mean')"
      ],
      "execution_count": 13,
      "outputs": [
        {
          "output_type": "execute_result",
          "data": {
            "text/plain": [
              "Sector            IPO Year\n",
              "Basic Industries  1972.0       877.240005\n",
              "                  1973.0      1445.697371\n",
              "                  1986.0      1396.817381\n",
              "                  1988.0        24.847526\n",
              "                  1990.0       434.808483\n",
              "                                 ...     \n",
              "Transportation    2006.0      1397.129447\n",
              "                  2007.0       413.900806\n",
              "                  2009.0       552.445919\n",
              "                  2011.0      3711.638317\n",
              "                  2013.0       125.740421\n",
              "Name: Market Capitalization, Length: 280, dtype: float64"
            ]
          },
          "metadata": {
            "tags": []
          },
          "execution_count": 13
        }
      ]
    },
    {
      "cell_type": "markdown",
      "metadata": {
        "id": "do9Dmh4Lyy4-"
      },
      "source": [
        "### Selecting from MultiIndex"
      ]
    },
    {
      "cell_type": "code",
      "metadata": {
        "colab": {
          "base_uri": "https://localhost:8080/"
        },
        "id": "pAwuh6dodKsg",
        "outputId": "f19f2341-83c3-49e7-cd52-833ae1ea3c43"
      },
      "source": [
        "mcap_sector_year = nasdaq_by_sector_year['Market Capitalization'].agg('mean')\r\n",
        "mcap_sector_year"
      ],
      "execution_count": 14,
      "outputs": [
        {
          "output_type": "execute_result",
          "data": {
            "text/plain": [
              "Sector            IPO Year\n",
              "Basic Industries  1972.0       877.240005\n",
              "                  1973.0      1445.697371\n",
              "                  1986.0      1396.817381\n",
              "                  1988.0        24.847526\n",
              "                  1990.0       434.808483\n",
              "                                 ...     \n",
              "Transportation    2006.0      1397.129447\n",
              "                  2007.0       413.900806\n",
              "                  2009.0       552.445919\n",
              "                  2011.0      3711.638317\n",
              "                  2013.0       125.740421\n",
              "Name: Market Capitalization, Length: 280, dtype: float64"
            ]
          },
          "metadata": {
            "tags": []
          },
          "execution_count": 14
        }
      ]
    },
    {
      "cell_type": "markdown",
      "metadata": {
        "id": "y83e3h7c1Gv5"
      },
      "source": [
        "Let’s take a look at how we can select values from this DataFrame with MultiIndex: Use the selector `loc` to select from a MultiIndex. If we select a single label from the first index level using `loc`, then pandas returns a Series with a single index that only contains values from the second level of the MultiIndex."
      ]
    },
    {
      "cell_type": "code",
      "metadata": {
        "colab": {
          "base_uri": "https://localhost:8080/"
        },
        "id": "QlA1XWN2dR-X",
        "outputId": "03edb98c-0621-4e9d-aa2c-d1f3bd201660"
      },
      "source": [
        "mcap_sector_year.loc['Basic Industries']"
      ],
      "execution_count": 15,
      "outputs": [
        {
          "output_type": "execute_result",
          "data": {
            "text/plain": [
              "IPO Year\n",
              "1972.0     877.240005\n",
              "1973.0    1445.697371\n",
              "1986.0    1396.817381\n",
              "1988.0      24.847526\n",
              "1990.0     434.808483\n",
              "1991.0       9.338401\n",
              "1992.0     160.416661\n",
              "1993.0    1933.224036\n",
              "1994.0     163.267514\n",
              "1995.0     125.342784\n",
              "1996.0    4087.508427\n",
              "1997.0      20.754774\n",
              "2008.0     331.370813\n",
              "2010.0     120.296167\n",
              "2011.0      35.498729\n",
              "2012.0     381.796074\n",
              "2013.0      22.661533\n",
              "2015.0     260.075564\n",
              "2016.0      81.288336\n",
              "Name: Market Capitalization, dtype: float64"
            ]
          },
          "metadata": {
            "tags": []
          },
          "execution_count": 15
        }
      ]
    },
    {
      "cell_type": "markdown",
      "metadata": {
        "id": "zvmIwaGx1UiB"
      },
      "source": [
        "We can also select several categories from the first level of the MultiIndex. Just pass a list with labels from the first index level, and pandas will return a series with MultiIndex just containing the selected subset of categories. \r\n",
        "\r\n",
        "For example, we have selected `Basic Industries` and `Transportation` to just show the average market cap per IPO year for these two sectors."
      ]
    },
    {
      "cell_type": "code",
      "metadata": {
        "colab": {
          "base_uri": "https://localhost:8080/"
        },
        "id": "sPTBidDzdZog",
        "outputId": "6408da9d-0c8a-4269-f590-81899caf13b8"
      },
      "source": [
        "mcap_sector_year.loc[['Basic Industries', 'Transportation']]"
      ],
      "execution_count": 16,
      "outputs": [
        {
          "output_type": "execute_result",
          "data": {
            "text/plain": [
              "Sector            IPO Year\n",
              "Basic Industries  1972.0       877.240005\n",
              "                  1973.0      1445.697371\n",
              "                  1986.0      1396.817381\n",
              "                  1988.0        24.847526\n",
              "                  1990.0       434.808483\n",
              "                  1991.0         9.338401\n",
              "                  1992.0       160.416661\n",
              "                  1993.0      1933.224036\n",
              "                  1994.0       163.267514\n",
              "                  1995.0       125.342784\n",
              "                  1996.0      4087.508427\n",
              "                  1997.0        20.754774\n",
              "                  2008.0       331.370813\n",
              "                  2010.0       120.296167\n",
              "                  2011.0        35.498729\n",
              "                  2012.0       381.796074\n",
              "                  2013.0        22.661533\n",
              "                  2015.0       260.075564\n",
              "                  2016.0        81.288336\n",
              "Transportation    1986.0      1176.179710\n",
              "                  1991.0      6646.778622\n",
              "                  1992.0        56.074572\n",
              "                  1993.0      3474.796885\n",
              "                  1994.0       319.911130\n",
              "                  1996.0      1329.873667\n",
              "                  1997.0      9681.791865\n",
              "                  2002.0      6914.854068\n",
              "                  2005.0        83.516330\n",
              "                  2006.0      1397.129447\n",
              "                  2007.0       413.900806\n",
              "                  2009.0       552.445919\n",
              "                  2011.0      3711.638317\n",
              "                  2013.0       125.740421\n",
              "Name: Market Capitalization, dtype: float64"
            ]
          },
          "metadata": {
            "tags": []
          },
          "execution_count": 16
        }
      ]
    },
    {
      "cell_type": "markdown",
      "metadata": {
        "id": "enur9p7l1w5z"
      },
      "source": [
        "## Part-3\r\n",
        "\r\n",
        "## Summary statistics with seaborn"
      ]
    },
    {
      "cell_type": "markdown",
      "metadata": {
        "id": "oCc9Av_v169R"
      },
      "source": [
        "## Importing Seaborn library"
      ]
    },
    {
      "cell_type": "code",
      "metadata": {
        "id": "me0x4eiBd0Vw"
      },
      "source": [
        "import seaborn as sns"
      ],
      "execution_count": 17,
      "outputs": []
    },
    {
      "cell_type": "markdown",
      "metadata": {
        "id": "G-iGqIBU2RJ0"
      },
      "source": [
        "### Countplot\r\n",
        "\r\n",
        "The most basic plot is the `countplot`, which visualizes the number of observations per category. \r\n",
        "\r\n",
        "Countplot just displays the number of observations for each category, similar to when we used groupby with size."
      ]
    },
    {
      "cell_type": "code",
      "metadata": {
        "colab": {
          "base_uri": "https://localhost:8080/",
          "height": 392
        },
        "id": "-10FWuAddtAA",
        "outputId": "7d429b41-956f-4068-c179-038815926c40"
      },
      "source": [
        "sns.countplot(x='Sector', data=nasdaq)\r\n",
        "plt.xticks(rotation=90)\r\n",
        "plt.show()"
      ],
      "execution_count": 18,
      "outputs": [
        {
          "output_type": "display_data",
          "data": {
            "image/png": "[encoded data removed]",
            "text/plain": [
              "<Figure size 432x288 with 1 Axes>"
            ]
          },
          "metadata": {
            "tags": [],
            "needs_background": "light"
          }
        }
      ]
    },
    {
      "cell_type": "markdown",
      "metadata": {
        "id": "zZnhdlEm2ouT"
      },
      "source": [
        "### Sorted Countplot\r\n",
        "\r\n",
        "To create a sorted countplot, first we have to create a list of the sorted category labels.\r\n",
        "\r\n",
        "Just grouping NASDAQ Data by sector, and calculating the size for each group, and sorting the result in descending order. "
      ]
    },
    {
      "cell_type": "code",
      "metadata": {
        "colab": {
          "base_uri": "https://localhost:8080/"
        },
        "id": "dswGRk-Kd8-G",
        "outputId": "00bc40fe-ed86-4ced-a24e-054e70eadfbd"
      },
      "source": [
        "sector_size = nasdaq.groupby('Sector').size()\r\n",
        "order =  sector_size.sort_values(ascending=False)\r\n",
        "order"
      ],
      "execution_count": 19,
      "outputs": [
        {
          "output_type": "execute_result",
          "data": {
            "text/plain": [
              "Sector\n",
              "Health Care              645\n",
              "Finance                  627\n",
              "Technology               433\n",
              "Consumer Services        348\n",
              "Capital Goods            172\n",
              "Consumer Non-Durables    103\n",
              "Miscellaneous             89\n",
              "Consumer Durables         88\n",
              "Basic Industries          78\n",
              "Public Utilities          66\n",
              "Energy                    66\n",
              "Transportation            52\n",
              "dtype: int64"
            ]
          },
          "metadata": {
            "tags": []
          },
          "execution_count": 19
        }
      ]
    },
    {
      "cell_type": "markdown",
      "metadata": {
        "id": "tR6GJF3o3DZG"
      },
      "source": [
        "As we can see, we got the sorted count of observations by category. To extract the index as a list, just call `.index.tolist` on the series."
      ]
    },
    {
      "cell_type": "code",
      "metadata": {
        "colab": {
          "base_uri": "https://localhost:8080/"
        },
        "id": "2h_bu3GeeiIh",
        "outputId": "397cd6e8-8b48-40ae-ef77-7bffccc971b6"
      },
      "source": [
        "order = order.index.tolist()\r\n",
        "order"
      ],
      "execution_count": 20,
      "outputs": [
        {
          "output_type": "execute_result",
          "data": {
            "text/plain": [
              "['Health Care',\n",
              " 'Finance',\n",
              " 'Technology',\n",
              " 'Consumer Services',\n",
              " 'Capital Goods',\n",
              " 'Consumer Non-Durables',\n",
              " 'Miscellaneous',\n",
              " 'Consumer Durables',\n",
              " 'Basic Industries',\n",
              " 'Public Utilities',\n",
              " 'Energy',\n",
              " 'Transportation']"
            ]
          },
          "metadata": {
            "tags": []
          },
          "execution_count": 20
        }
      ]
    },
    {
      "cell_type": "markdown",
      "metadata": {
        "id": "BWpnTtFq3Ms-"
      },
      "source": [
        "Passing the list to countplot's parameter 'order', and countplot now displays in sorted order."
      ]
    },
    {
      "cell_type": "code",
      "metadata": {
        "colab": {
          "base_uri": "https://localhost:8080/",
          "height": 392
        },
        "id": "mLyoU3roeQcg",
        "outputId": "caca518f-f2a0-45c3-a73c-131b92617c58"
      },
      "source": [
        "sns.countplot(x='Sector', data=nasdaq, order=order)\r\n",
        "plt.xticks(rotation=90)\r\n",
        "plt.show()"
      ],
      "execution_count": 21,
      "outputs": [
        {
          "output_type": "display_data",
          "data": {
            "image/png": "[encoded data removed]",
            "text/plain": [
              "<Figure size 432x288 with 1 Axes>"
            ]
          },
          "metadata": {
            "tags": [],
            "needs_background": "light"
          }
        }
      ]
    },
    {
      "cell_type": "markdown",
      "metadata": {
        "id": "1upzPxdm3VJ6"
      },
      "source": [
        "### Countplot Multiple categories"
      ]
    },
    {
      "cell_type": "markdown",
      "metadata": {
        "id": "xKiH2xKj4fc6"
      },
      "source": [
        "Filtering companies with IPO after 2014"
      ]
    },
    {
      "cell_type": "code",
      "metadata": {
        "colab": {
          "base_uri": "https://localhost:8080/",
          "height": 554
        },
        "id": "7LY9W9cAfB5_",
        "outputId": "241e0da6-92b5-4958-b74a-5a5d5e17e429"
      },
      "source": [
        "recent_ipo = nasdaq[nasdaq['IPO Year'] > 2014]\r\n",
        "recent_ipo"
      ],
      "execution_count": 22,
      "outputs": [
        {
          "output_type": "execute_result",
          "data": {
            "text/html": [
              "<div>\n",
              "<style scoped>\n",
              "    .dataframe tbody tr th:only-of-type {\n",
              "        vertical-align: middle;\n",
              "    }\n",
              "\n",
              "    .dataframe tbody tr th {\n",
              "        vertical-align: top;\n",
              "    }\n",
              "\n",
              "    .dataframe thead th {\n",
              "        text-align: right;\n",
              "    }\n",
              "</style>\n",
              "<table border=\"1\" class=\"dataframe\">\n",
              "  <thead>\n",
              "    <tr style=\"text-align: right;\">\n",
              "      <th></th>\n",
              "      <th>Stock Symbol</th>\n",
              "      <th>Company Name</th>\n",
              "      <th>Last Sale</th>\n",
              "      <th>Market Capitalization</th>\n",
              "      <th>IPO Year</th>\n",
              "      <th>Sector</th>\n",
              "      <th>Industry</th>\n",
              "    </tr>\n",
              "  </thead>\n",
              "  <tbody>\n",
              "    <tr>\n",
              "      <th>193</th>\n",
              "      <td>TEAM</td>\n",
              "      <td>Atlassian Corporation Plc</td>\n",
              "      <td>31.2300</td>\n",
              "      <td>6947.660650</td>\n",
              "      <td>2015.0</td>\n",
              "      <td>Technology</td>\n",
              "      <td>Computer Software: Prepackaged Software</td>\n",
              "    </tr>\n",
              "    <tr>\n",
              "      <th>254</th>\n",
              "      <td>MSG</td>\n",
              "      <td>MSG Networks Inc.</td>\n",
              "      <td>197.0800</td>\n",
              "      <td>4722.561033</td>\n",
              "      <td>2015.0</td>\n",
              "      <td>Consumer Services</td>\n",
              "      <td>Services-Misc. Amusement &amp; Recreation</td>\n",
              "    </tr>\n",
              "    <tr>\n",
              "      <th>264</th>\n",
              "      <td>CDEV</td>\n",
              "      <td>Centennial Resource Development, Inc.</td>\n",
              "      <td>19.7900</td>\n",
              "      <td>4520.552440</td>\n",
              "      <td>2016.0</td>\n",
              "      <td>Energy</td>\n",
              "      <td>Oil &amp; Gas Production</td>\n",
              "    </tr>\n",
              "    <tr>\n",
              "      <th>265</th>\n",
              "      <td>BUFF</td>\n",
              "      <td>Blue Buffalo Pet Products, Inc.</td>\n",
              "      <td>22.8500</td>\n",
              "      <td>4491.159297</td>\n",
              "      <td>2015.0</td>\n",
              "      <td>Consumer Non-Durables</td>\n",
              "      <td>Packaged Foods</td>\n",
              "    </tr>\n",
              "    <tr>\n",
              "      <th>268</th>\n",
              "      <td>MTCH</td>\n",
              "      <td>Match Group, Inc.</td>\n",
              "      <td>17.2200</td>\n",
              "      <td>4407.779654</td>\n",
              "      <td>2015.0</td>\n",
              "      <td>Technology</td>\n",
              "      <td>Computer Software: Programming, Data Processing</td>\n",
              "    </tr>\n",
              "    <tr>\n",
              "      <th>...</th>\n",
              "      <td>...</td>\n",
              "      <td>...</td>\n",
              "      <td>...</td>\n",
              "      <td>...</td>\n",
              "      <td>...</td>\n",
              "      <td>...</td>\n",
              "      <td>...</td>\n",
              "    </tr>\n",
              "    <tr>\n",
              "      <th>3119</th>\n",
              "      <td>SRTSW</td>\n",
              "      <td>Sensus Healthcare, Inc.</td>\n",
              "      <td>0.6012</td>\n",
              "      <td>0.000000</td>\n",
              "      <td>2016.0</td>\n",
              "      <td>Health Care</td>\n",
              "      <td>Medical/Dental Instruments</td>\n",
              "    </tr>\n",
              "    <tr>\n",
              "      <th>3122</th>\n",
              "      <td>SRUNU</td>\n",
              "      <td>Silver Run Acquisition Corporation II</td>\n",
              "      <td>10.3900</td>\n",
              "      <td>0.000000</td>\n",
              "      <td>2017.0</td>\n",
              "      <td>Finance</td>\n",
              "      <td>Business Services</td>\n",
              "    </tr>\n",
              "    <tr>\n",
              "      <th>3129</th>\n",
              "      <td>STLRU</td>\n",
              "      <td>Stellar Acquisition III Inc.</td>\n",
              "      <td>10.4200</td>\n",
              "      <td>0.000000</td>\n",
              "      <td>2016.0</td>\n",
              "      <td>Finance</td>\n",
              "      <td>Business Services</td>\n",
              "    </tr>\n",
              "    <tr>\n",
              "      <th>3130</th>\n",
              "      <td>STLRW</td>\n",
              "      <td>Stellar Acquisition III Inc.</td>\n",
              "      <td>0.3600</td>\n",
              "      <td>0.000000</td>\n",
              "      <td>2016.0</td>\n",
              "      <td>Finance</td>\n",
              "      <td>Business Services</td>\n",
              "    </tr>\n",
              "    <tr>\n",
              "      <th>3143</th>\n",
              "      <td>VEACU</td>\n",
              "      <td>Vantage Energy Acquisition Corp.</td>\n",
              "      <td>10.0100</td>\n",
              "      <td>0.000000</td>\n",
              "      <td>2017.0</td>\n",
              "      <td>NaN</td>\n",
              "      <td>NaN</td>\n",
              "    </tr>\n",
              "  </tbody>\n",
              "</table>\n",
              "<p>327 rows × 7 columns</p>\n",
              "</div>"
            ],
            "text/plain": [
              "     Stock Symbol  ...                                         Industry\n",
              "193          TEAM  ...          Computer Software: Prepackaged Software\n",
              "254           MSG  ...            Services-Misc. Amusement & Recreation\n",
              "264          CDEV  ...                             Oil & Gas Production\n",
              "265          BUFF  ...                                   Packaged Foods\n",
              "268          MTCH  ...  Computer Software: Programming, Data Processing\n",
              "...           ...  ...                                              ...\n",
              "3119        SRTSW  ...                       Medical/Dental Instruments\n",
              "3122        SRUNU  ...                                Business Services\n",
              "3129        STLRU  ...                                Business Services\n",
              "3130        STLRW  ...                                Business Services\n",
              "3143        VEACU  ...                                              NaN\n",
              "\n",
              "[327 rows x 7 columns]"
            ]
          },
          "metadata": {
            "tags": []
          },
          "execution_count": 22
        }
      ]
    },
    {
      "cell_type": "markdown",
      "metadata": {
        "id": "S9iihynT4pJ8"
      },
      "source": [
        "Converting the variable year to integer dtype"
      ]
    },
    {
      "cell_type": "code",
      "metadata": {
        "colab": {
          "base_uri": "https://localhost:8080/"
        },
        "id": "WgqVDK8LfX6P",
        "outputId": "6aeabf35-29d3-4d68-f51d-3d3ecc9644a3"
      },
      "source": [
        "recent_ipo['IPO Year'] = recent_ipo['IPO Year'].astype(int)"
      ],
      "execution_count": 23,
      "outputs": [
        {
          "output_type": "stream",
          "text": [
            "/usr/local/lib/python3.6/dist-packages/ipykernel_launcher.py:1: SettingWithCopyWarning: \n",
            "A value is trying to be set on a copy of a slice from a DataFrame.\n",
            "Try using .loc[row_indexer,col_indexer] = value instead\n",
            "\n",
            "See the caveats in the documentation: https://pandas.pydata.org/pandas-docs/stable/user_guide/indexing.html#returning-a-view-versus-a-copy\n",
            "  \"\"\"Entry point for launching an IPython kernel.\n"
          ],
          "name": "stderr"
        }
      ]
    },
    {
      "cell_type": "markdown",
      "metadata": {
        "id": "UvSg7IOa43Ly"
      },
      "source": [
        "Passing the column `IPO year` to the countplot's `hue` parameter."
      ]
    },
    {
      "cell_type": "code",
      "metadata": {
        "colab": {
          "base_uri": "https://localhost:8080/",
          "height": 297
        },
        "id": "nHak7BcQfgnH",
        "outputId": "a35a8407-422a-40e9-b0d7-d02a4c3bcddb"
      },
      "source": [
        "sns.countplot(x='Sector', hue='IPO Year', data=recent_ipo)\r\n",
        "plt.xticks(rotation=90)\r\n",
        "plt.tight_layout()\r\n",
        "plt.show()"
      ],
      "execution_count": 24,
      "outputs": [
        {
          "output_type": "display_data",
          "data": {
            "image/png": "[encoded data removed]",
            "text/plain": [
              "<Figure size 432x288 with 1 Axes>"
            ]
          },
          "metadata": {
            "tags": [],
            "needs_background": "light"
          }
        }
      ]
    },
    {
      "cell_type": "markdown",
      "metadata": {
        "id": "on0I7J1Y4z1a"
      },
      "source": [
        "Seaborn now produces a grouped bar chart that shows the number of observations for each sector and IPO year."
      ]
    },
    {
      "cell_type": "markdown",
      "metadata": {
        "id": "XOId8WII5BFA"
      },
      "source": [
        "### PointPlot\r\n",
        "\r\n",
        "The Pointplot is a useful tool to compare statistics for more than one categorical variable."
      ]
    },
    {
      "cell_type": "markdown",
      "metadata": {
        "id": "_9FPo1tE5K5G"
      },
      "source": [
        "Let's first create a new variable called `IPO` that indicates whether the `IPO` occurred before or after the year 2000. \r\n",
        "\r\n",
        "We then add this variable to the pointplot to differentiate the average market cap by sector by this second category."
      ]
    },
    {
      "cell_type": "code",
      "metadata": {
        "colab": {
          "base_uri": "https://localhost:8080/",
          "height": 408
        },
        "id": "zp-J5gV9gB76",
        "outputId": "306e60be-e8da-493f-c0f4-ead31be64dfa"
      },
      "source": [
        "nasdaq['IPO'] = nasdaq['IPO Year'].apply(lambda x: 'After 2000' if x > 2000 else 'Before 2000')\r\n",
        "sns.pointplot(x='Sector', y='Market Capitalization', hue='IPO', data=nasdaq)\r\n",
        "plt.xticks(rotation=90)\r\n",
        "plt.title('Mean Market Cap')\r\n",
        "plt.show()"
      ],
      "execution_count": 25,
      "outputs": [
        {
          "output_type": "display_data",
          "data": {
            "image/png": "[encoded data removed]",
            "text/plain": [
              "<Figure size 432x288 with 1 Axes>"
            ]
          },
          "metadata": {
            "tags": [],
            "needs_background": "light"
          }
        }
      ]
    },
    {
      "cell_type": "markdown",
      "metadata": {
        "id": "-NOCvUaI5Vg_"
      },
      "source": [
        "As expected, for most sectors, market capitalization is higher for older companies, but this is not true for all cases."
      ]
    },
    {
      "cell_type": "markdown",
      "metadata": {
        "id": "U57TXIXa5gVD"
      },
      "source": [
        "##Part-4\r\n",
        "\r\n",
        "## Category distributions with Seaborn"
      ]
    },
    {
      "cell_type": "markdown",
      "metadata": {
        "id": "90RUGR9w51MN"
      },
      "source": [
        "###Cleaning Data: removing outliers\r\n",
        "\r\n",
        "To get a better view of the distribution of our data, let's remove inactive companies with market cap of 0, and outliers with very large market capitalization. We could choose the 90th percentile as a cutoff for outliers at the high end."
      ]
    },
    {
      "cell_type": "code",
      "metadata": {
        "colab": {
          "base_uri": "https://localhost:8080/"
        },
        "id": "0EvlN3hPg_Zi",
        "outputId": "9b0d4a8e-dbf7-4f90-da29-9b98866f7a55"
      },
      "source": [
        "nasdaq = nasdaq[nasdaq['Market Capitalization'] > 0]\r\n",
        "print('Shape of Original Dataset : ',nasdaq.shape)\r\n",
        "\r\n",
        "outliers = nasdaq['Market Capitalization'].quantile(0.9)  #Cutoff for outliers\r\n",
        "\r\n",
        "nasdaq = nasdaq[nasdaq['Market Capitalization'] < outliers]\r\n",
        "print('Updated shape of nasdaq:', nasdaq.shape)\r\n"
      ],
      "execution_count": 26,
      "outputs": [
        {
          "output_type": "stream",
          "text": [
            "Shape of Original Dataset :  (2899, 8)\n",
            "Updated shape of nasdaq: (2609, 8)\n"
          ],
          "name": "stdout"
        }
      ]
    },
    {
      "cell_type": "markdown",
      "metadata": {
        "id": "YG6mta5R6O0e"
      },
      "source": [
        "### Boxplot\r\n",
        "\r\n",
        "The box plot is a classic statistical chart based on key quantiles of a distribution. The box plot requires to provide a DataFrame, and: The label of one categorical column for the x axis, and The label of one quantitative column for display on the y-axis.\r\n",
        "\r\n",
        "After providing the data, the boxplot outlines the distribution of the numeric variable market cap for each level of the categorical variable Sector as follows: The box starts at the 1st and ends at the 3rd quartile. The horizontal bar at the center of the box is the second quartile, ie, the median. The interquartile range is the difference between the 3rd and the 1st quartile, represented by the vertical length of the box The two whiskers extending from the top and bottom are one and a half times the interquartile range in length (but limited by 0 at the lower end). Data points outside this range are marked as outliers."
      ]
    },
    {
      "cell_type": "code",
      "metadata": {
        "colab": {
          "base_uri": "https://localhost:8080/",
          "height": 392
        },
        "id": "T969ykOwjD2J",
        "outputId": "ee8b8416-be5e-4398-9a57-32c27cda95d2"
      },
      "source": [
        "sns.boxplot(x='Sector', y='Market Capitalization', data=nasdaq)\r\n",
        "plt.xticks(rotation=90)\r\n",
        "plt.show()"
      ],
      "execution_count": 27,
      "outputs": [
        {
          "output_type": "display_data",
          "data": {
            "image/png": "[encoded data removed]",
            "text/plain": [
              "<Figure size 432x288 with 1 Axes>"
            ]
          },
          "metadata": {
            "tags": [],
            "needs_background": "light"
          }
        }
      ]
    },
    {
      "cell_type": "markdown",
      "metadata": {
        "id": "YQHCJ_9m6jxo"
      },
      "source": [
        "We can see that the company sizes vary significantly at the top end for each sector. While the median is similar for each sector, the third quartile, inter quartile range, and number of outliers differ greatly."
      ]
    },
    {
      "cell_type": "markdown",
      "metadata": {
        "id": "xkRON84G6qjU"
      },
      "source": [
        "### Swarmplot\r\n",
        "\r\n",
        "A useful variation is the swarmplot. It displays all observations, while attempting to avoid overlap. It is most useful when the number of observations is limited."
      ]
    },
    {
      "cell_type": "code",
      "metadata": {
        "colab": {
          "base_uri": "https://localhost:8080/",
          "height": 828
        },
        "id": "DPc3D3ok2WIs",
        "outputId": "35be42fd-1cc4-4535-84cc-b914bd8bf3d3"
      },
      "source": [
        "sns.swarmplot(x='Sector', y='Market Capitalization', data=nasdaq)\r\n",
        "plt.xticks(rotation=90)\r\n",
        "plt.show()"
      ],
      "execution_count": 28,
      "outputs": [
        {
          "output_type": "stream",
          "text": [
            "/usr/local/lib/python3.6/dist-packages/seaborn/categorical.py:1296: UserWarning: 48.9% of the points cannot be placed; you may want to decrease the size of the markers or use stripplot.\n",
            "  warnings.warn(msg, UserWarning)\n",
            "/usr/local/lib/python3.6/dist-packages/seaborn/categorical.py:1296: UserWarning: 64.0% of the points cannot be placed; you may want to decrease the size of the markers or use stripplot.\n",
            "  warnings.warn(msg, UserWarning)\n",
            "/usr/local/lib/python3.6/dist-packages/seaborn/categorical.py:1296: UserWarning: 58.1% of the points cannot be placed; you may want to decrease the size of the markers or use stripplot.\n",
            "  warnings.warn(msg, UserWarning)\n",
            "/usr/local/lib/python3.6/dist-packages/seaborn/categorical.py:1296: UserWarning: 75.5% of the points cannot be placed; you may want to decrease the size of the markers or use stripplot.\n",
            "  warnings.warn(msg, UserWarning)\n",
            "/usr/local/lib/python3.6/dist-packages/seaborn/categorical.py:1296: UserWarning: 44.1% of the points cannot be placed; you may want to decrease the size of the markers or use stripplot.\n",
            "  warnings.warn(msg, UserWarning)\n",
            "/usr/local/lib/python3.6/dist-packages/seaborn/categorical.py:1296: UserWarning: 81.3% of the points cannot be placed; you may want to decrease the size of the markers or use stripplot.\n",
            "  warnings.warn(msg, UserWarning)\n",
            "/usr/local/lib/python3.6/dist-packages/seaborn/categorical.py:1296: UserWarning: 54.2% of the points cannot be placed; you may want to decrease the size of the markers or use stripplot.\n",
            "  warnings.warn(msg, UserWarning)\n",
            "/usr/local/lib/python3.6/dist-packages/seaborn/categorical.py:1296: UserWarning: 19.5% of the points cannot be placed; you may want to decrease the size of the markers or use stripplot.\n",
            "  warnings.warn(msg, UserWarning)\n",
            "/usr/local/lib/python3.6/dist-packages/seaborn/categorical.py:1296: UserWarning: 45.1% of the points cannot be placed; you may want to decrease the size of the markers or use stripplot.\n",
            "  warnings.warn(msg, UserWarning)\n",
            "/usr/local/lib/python3.6/dist-packages/seaborn/categorical.py:1296: UserWarning: 44.6% of the points cannot be placed; you may want to decrease the size of the markers or use stripplot.\n",
            "  warnings.warn(msg, UserWarning)\n",
            "/usr/local/lib/python3.6/dist-packages/seaborn/categorical.py:1296: UserWarning: 49.3% of the points cannot be placed; you may want to decrease the size of the markers or use stripplot.\n",
            "  warnings.warn(msg, UserWarning)\n",
            "/usr/local/lib/python3.6/dist-packages/seaborn/categorical.py:1296: UserWarning: 24.6% of the points cannot be placed; you may want to decrease the size of the markers or use stripplot.\n",
            "  warnings.warn(msg, UserWarning)\n"
          ],
          "name": "stderr"
        },
        {
          "output_type": "display_data",
          "data": {
            "image/png": "[encoded data removed]",
            "text/plain": [
              "<Figure size 432x288 with 1 Axes>"
            ]
          },
          "metadata": {
            "tags": [],
            "needs_background": "light"
          }
        }
      ]
    },
    {
      "cell_type": "markdown",
      "metadata": {
        "id": "2B3Mw04X6uWU"
      },
      "source": [
        "##Conclusion :\r\n",
        "\r\n",
        "In this jupyter notebook, we have learnt how to group data by one or more categorical variables, and to calculate and visualize summary statistics for each caategory."
      ]
    }
  ]
}